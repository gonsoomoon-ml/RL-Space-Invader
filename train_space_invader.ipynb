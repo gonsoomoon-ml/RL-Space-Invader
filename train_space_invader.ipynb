{
 "cells": [
  {
   "cell_type": "markdown",
   "metadata": {},
   "source": [
    "## Train the Space Invader"
   ]
  },
  {
   "cell_type": "code",
   "execution_count": 35,
   "metadata": {},
   "outputs": [],
   "source": [
    "# Define IAM role\n",
    "import boto3\n",
    "import os\n",
    "import numpy as np\n",
    "import pandas as pd"
   ]
  },
  {
   "cell_type": "markdown",
   "metadata": {},
   "source": [
    "## Set output folder for training artifacts\n"
   ]
  },
  {
   "cell_type": "code",
   "execution_count": 36,
   "metadata": {},
   "outputs": [
    {
     "name": "stdout",
     "output_type": "stream",
     "text": [
      "s3://rl-gsmoon/022220-space-invader-dddqn\n"
     ]
    }
   ],
   "source": [
    "bucket_name = 'rl-gsmoon'\n",
    "prefix = '022220-space-invader-dddqn'\n",
    "\n",
    "# output_path=\"s3://{}/tfhub-em/output\".format(sess.default_bucket())\n",
    "s3_output_path=\"s3://{}/{}\".format(bucket_name, prefix)\n",
    "print(s3_output_path)"
   ]
  },
  {
   "cell_type": "markdown",
   "metadata": {},
   "source": [
    "## Create an estimator and fit the model\n"
   ]
  },
  {
   "cell_type": "code",
   "execution_count": 37,
   "metadata": {},
   "outputs": [],
   "source": [
    "# fill in a container name\n",
    "import os\n",
    "import os\n",
    "# os.environ['train_container_name']= \"train-space-invader\"\n",
    "# train_container_name = \"train-space-invader\"\n",
    "\n",
    "os.environ['train_container_name']= \"train-space-invader-dddqn-gpu\"\n",
    "train_container_name = \"train-space-invader-dddqn-gpu\"\n",
    "\n",
    "\n"
   ]
  },
  {
   "cell_type": "code",
   "execution_count": 38,
   "metadata": {},
   "outputs": [
    {
     "name": "stdout",
     "output_type": "stream",
     "text": [
      "docker image:  057716757052.dkr.ecr.us-east-2.amazonaws.com/train-space-invader-dddqn-gpu:latest\n"
     ]
    }
   ],
   "source": [
    "from sagemaker.estimator import Estimator\n",
    "from sagemaker import get_execution_role\n",
    "import sagemaker as sage\n",
    "\n",
    "role = get_execution_role()\n",
    "sess = sage.Session()\n",
    "\n",
    "account = sess.boto_session.client('sts').get_caller_identity()['Account']\n",
    "region = sess.boto_session.region_name\n",
    "image = '{}.dkr.ecr.{}.amazonaws.com/{}:latest'.format(account, region, train_container_name)\n",
    "print(\"docker image: \", image)\n",
    "# 057716757052.dkr.ecr.us-east-2.amazonaws.com/train-space-invader-gpu-emoji\n"
   ]
  },
  {
   "cell_type": "code",
   "execution_count": 39,
   "metadata": {},
   "outputs": [
    {
     "name": "stdout",
     "output_type": "stream",
     "text": [
      "CPU times: user 47 ms, sys: 4.91 ms, total: 52 ms\n",
      "Wall time: 280 ms\n"
     ]
    }
   ],
   "source": [
    "%%time\n",
    "\n",
    "hyperparameters = {'max_steps':50000,\n",
    "                   'total_episodes':10,\n",
    "                   'batch_size' : 64,\n",
    "                   'pretrain_length' : 100000,\n",
    "                   'memory_size' : 100000,\n",
    "                   'max_tau' : 10000                   \n",
    "                  }\n",
    "\n",
    "# instance_type = 'local'\n",
    "instance_type = 'ml.p3.8xlarge'\n",
    "    \n",
    "estimator = Estimator(\n",
    "                    role = role,\n",
    "                    train_instance_count = 1,\n",
    "                    train_instance_type = instance_type,\n",
    "                    image_name = image,    \n",
    "                    output_path=s3_output_path,\n",
    "                    hyperparameters=hyperparameters)\n",
    "\n",
    "\n",
    "estimator.fit(wait=False)\n",
    "# 057716757052.dkr.ecr.us-east-2.amazonaws.com/train-space-invader-gpu-emoji"
   ]
  },
  {
   "cell_type": "code",
   "execution_count": 40,
   "metadata": {},
   "outputs": [
    {
     "name": "stdout",
     "output_type": "stream",
     "text": [
      "CPU times: user 66.3 ms, sys: 4.46 ms, total: 70.8 ms\n",
      "Wall time: 2.18 s\n"
     ]
    }
   ],
   "source": [
    "%%time\n",
    "\n",
    "hyperparameters = {'max_steps':50000,\n",
    "                   'total_episodes':100,\n",
    "                   'batch_size' : 64,\n",
    "                   'pretrain_length' : 100000,\n",
    "                   'memory_size' : 100000,\n",
    "                   'max_tau' : 10000                   \n",
    "                  }\n",
    "\n",
    "\n",
    "#instance_type = 'local'\n",
    "instance_type = 'ml.p3.8xlarge'\n",
    "\n",
    "estimator = Estimator(\n",
    "                    role = role,\n",
    "                    train_instance_count = 1,\n",
    "                    train_instance_type = instance_type,\n",
    "                    image_name = image,    \n",
    "                    output_path=s3_output_path,\n",
    "                    hyperparameters=hyperparameters)\n",
    "\n",
    "\n",
    "estimator.fit(wait=False)\n",
    "# 057716757052.dkr.ecr.us-east-2.amazonaws.com/train-space-invader-gpu-emoji"
   ]
  },
  {
   "cell_type": "code",
   "execution_count": 41,
   "metadata": {},
   "outputs": [
    {
     "name": "stdout",
     "output_type": "stream",
     "text": [
      "CPU times: user 48.9 ms, sys: 4.6 ms, total: 53.5 ms\n",
      "Wall time: 208 ms\n"
     ]
    }
   ],
   "source": [
    "%%time\n",
    "\n",
    "hyperparameters = {'max_steps':50000,\n",
    "                   'total_episodes':500,\n",
    "                   'batch_size' : 64,\n",
    "                   'pretrain_length' : 100000,\n",
    "                   'memory_size' : 100000,\n",
    "                   'max_tau' : 10000                   \n",
    "                  }\n",
    "\n",
    "\n",
    "#instance_type = 'local'\n",
    "instance_type = 'ml.p3.8xlarge'\n",
    "\n",
    "estimator = Estimator(\n",
    "                    role = role,\n",
    "                    train_instance_count = 1,\n",
    "                    train_instance_type = instance_type,\n",
    "                    image_name = image,    \n",
    "                    output_path=s3_output_path,\n",
    "                    hyperparameters=hyperparameters)\n",
    "\n",
    "\n",
    "estimator.fit(wait=False)\n",
    "# 057716757052.dkr.ecr.us-east-2.amazonaws.com/train-space-invader-gpu-emoji"
   ]
  },
  {
   "cell_type": "code",
   "execution_count": 42,
   "metadata": {},
   "outputs": [
    {
     "name": "stdout",
     "output_type": "stream",
     "text": [
      "CPU times: user 51.7 ms, sys: 3.87 ms, total: 55.6 ms\n",
      "Wall time: 221 ms\n"
     ]
    }
   ],
   "source": [
    "%%time\n",
    "\n",
    "hyperparameters = {'max_steps':50000,\n",
    "                   'total_episodes':1000,\n",
    "                   'batch_size' : 64,\n",
    "                   'pretrain_length' : 100000,\n",
    "                   'memory_size' : 100000,\n",
    "                   'max_tau' : 10000                   \n",
    "                  }\n",
    "\n",
    "\n",
    "#instance_type = 'local'\n",
    "instance_type = 'ml.p3.8xlarge'\n",
    "\n",
    "estimator = Estimator(\n",
    "                    role = role,\n",
    "                    train_instance_count = 1,\n",
    "                    train_instance_type = instance_type,\n",
    "                    image_name = image,    \n",
    "                    output_path=s3_output_path,\n",
    "                    hyperparameters=hyperparameters)\n",
    "\n",
    "\n",
    "estimator.fit(wait=False)\n",
    "# 057716757052.dkr.ecr.us-east-2.amazonaws.com/train-space-invader-gpu-emoji"
   ]
  },
  {
   "cell_type": "code",
   "execution_count": 43,
   "metadata": {},
   "outputs": [
    {
     "name": "stdout",
     "output_type": "stream",
     "text": [
      "CPU times: user 42.4 ms, sys: 12.5 ms, total: 54.9 ms\n",
      "Wall time: 204 ms\n"
     ]
    }
   ],
   "source": [
    "%%time\n",
    "\n",
    "hyperparameters = {'max_steps':50000,\n",
    "                   'total_episodes':5000,\n",
    "                   'batch_size' : 64,\n",
    "                   'pretrain_length' : 100000,\n",
    "                   'memory_size' : 100000,\n",
    "                   'max_tau' : 10000                   \n",
    "                  }\n",
    "\n",
    "\n",
    "#instance_type = 'local'\n",
    "instance_type = 'ml.p3.8xlarge'\n",
    "\n",
    "estimator = Estimator(\n",
    "                    role = role,\n",
    "                    train_instance_count = 1,\n",
    "                    train_instance_type = instance_type,\n",
    "                    image_name = image,    \n",
    "                    output_path=s3_output_path,\n",
    "                    hyperparameters=hyperparameters)\n",
    "\n",
    "\n",
    "estimator.fit(wait=False)\n",
    "# 057716757052.dkr.ecr.us-east-2.amazonaws.com/train-space-invader-gpu-emoji"
   ]
  },
  {
   "cell_type": "code",
   "execution_count": null,
   "metadata": {},
   "outputs": [],
   "source": []
  },
  {
   "cell_type": "code",
   "execution_count": null,
   "metadata": {},
   "outputs": [],
   "source": []
  },
  {
   "cell_type": "code",
   "execution_count": null,
   "metadata": {},
   "outputs": [],
   "source": []
  }
 ],
 "metadata": {
  "kernelspec": {
   "display_name": "conda_tensorflow_p36",
   "language": "python",
   "name": "conda_tensorflow_p36"
  },
  "language_info": {
   "codemirror_mode": {
    "name": "ipython",
    "version": 3
   },
   "file_extension": ".py",
   "mimetype": "text/x-python",
   "name": "python",
   "nbconvert_exporter": "python",
   "pygments_lexer": "ipython3",
   "version": "3.6.5"
  }
 },
 "nbformat": 4,
 "nbformat_minor": 4
}
