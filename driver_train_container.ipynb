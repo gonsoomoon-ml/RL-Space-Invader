{
 "cells": [
  {
   "cell_type": "markdown",
   "metadata": {},
   "source": [
    "## Test local filss of train.py"
   ]
  },
  {
   "cell_type": "code",
   "execution_count": 34,
   "metadata": {},
   "outputs": [],
   "source": [
    "# ! python train.py --run_mode_container True\n",
    "# ! python trainSI.py --run_mode_container True\n",
    "# ! python train.py \n",
    "\n"
   ]
  },
  {
   "cell_type": "markdown",
   "metadata": {},
   "source": [
    "<h2>Prepare for a train file"
   ]
  },
  {
   "cell_type": "code",
   "execution_count": 35,
   "metadata": {},
   "outputs": [
    {
     "name": "stdout",
     "output_type": "stream",
     "text": [
      "total 96\n",
      "drwxrwxr-x  4 ec2-user ec2-user  4096 Feb 23 09:16 .\n",
      "drwxrwxr-x 11 ec2-user ec2-user  4096 Feb 23 10:56 ..\n",
      "-rw-rw-r--  1 ec2-user ec2-user 10510 Feb 23 10:56 DDDQNNet.py\n",
      "-rw-rw-r--  1 ec2-user ec2-user  1014 Feb 23 09:10 Dockerfile\n",
      "-rw-rw-r--  1 ec2-user ec2-user  1258 Feb 22 08:22 Dockerfile.cpu\n",
      "-rw-rw-r--  1 ec2-user ec2-user   175 Feb 23 09:16 hyperparameters.json\n",
      "drwxrwxr-x  2 ec2-user ec2-user  4096 Feb 23 09:16 .ipynb_checkpoints\n",
      "drwxrwxr-x  2 ec2-user ec2-user  4096 Feb 22 08:22 SI_ROMS\n",
      "-rwxrwxr-x  1 ec2-user ec2-user 17342 Feb 23 10:56 train\n",
      "-rw-rw-r--  1 ec2-user ec2-user 17317 Feb 23 07:59 trainDDDQN.py\n",
      "-rw-rw-r--  1 ec2-user ec2-user 13497 Feb 23 10:56 utils.py\n"
     ]
    }
   ],
   "source": [
    "# ! ls ./train.py -al\n",
    "# ! cp ./train.py train_container/train\n",
    "# ! chmod +x train_container/train\n",
    "# ! chmod +x train_container/build_and_push.sh\n",
    "# ! ls train_container/train -al\n",
    "\n",
    "! cp ./DDDQNNet.py train_container/\n",
    "! cp ./utils.py train_container/\n",
    "! cp ./trainDDDQN.py train_container/train\n",
    "\n",
    "! chmod +x train_container/train\n",
    "! ls train_container -al"
   ]
  },
  {
   "cell_type": "markdown",
   "metadata": {},
   "source": [
    "<h2>Test local container "
   ]
  },
  {
   "cell_type": "code",
   "execution_count": 36,
   "metadata": {},
   "outputs": [],
   "source": [
    "import os\n",
    "os.environ['train_container_name']= \"train-space-invader-dddqn-gpu\"\n",
    "train_container_name = \"train-space-invader-dddqn-gpu\""
   ]
  },
  {
   "cell_type": "code",
   "execution_count": 37,
   "metadata": {
    "collapsed": true,
    "jupyter": {
     "outputs_hidden": true
    }
   },
   "outputs": [
    {
     "name": "stdout",
     "output_type": "stream",
     "text": [
      "us-east-2\n",
      "Login Succeeded\n",
      "Login Succeeded\n",
      "Sending build context to Docker daemon    107kB\n",
      "Step 1/14 : FROM 763104351884.dkr.ecr.us-east-2.amazonaws.com/tensorflow-training:1.15.0-gpu-py36-cu100-ubuntu18.04\n",
      " ---> 86d19102e250\n",
      "Step 2/14 : RUN pip install gym-retro\n",
      " ---> Using cache\n",
      " ---> 70d9ddf74b9c\n",
      "Step 3/14 : RUN pip install -U scikit-image\n",
      " ---> Using cache\n",
      " ---> 7e5ed48b3743\n",
      "Step 4/14 : ENV PYTHONUNBUFFERED=TRUE\n",
      " ---> Using cache\n",
      " ---> 68f73630e724\n",
      "Step 5/14 : ENV PYTHONDONTWRITEBYTECODE=TRUE\n",
      " ---> Using cache\n",
      " ---> 79060c190c29\n",
      "Step 6/14 : ENV PATH=\"/opt/ml/code:${PATH}\"\n",
      " ---> Using cache\n",
      " ---> 13f11b49a587\n",
      "Step 7/14 : COPY hyperparameters.json /opt/ml/input/config/\n",
      " ---> Using cache\n",
      " ---> 90b534ef63fb\n",
      "Step 8/14 : COPY SI_ROMS/ /opt/ml/program\n",
      " ---> Using cache\n",
      " ---> 916f5dfb4df3\n",
      "Step 9/14 : COPY train /opt/ml/code/\n",
      " ---> 27a89819f5b5\n",
      "Step 10/14 : COPY DDDQNNet.py /opt/ml/code/\n",
      " ---> bcba068a2a13\n",
      "Step 11/14 : COPY utils.py /opt/ml/code/\n",
      " ---> fd287d7080dc\n",
      "Step 12/14 : WORKDIR /opt/ml/program\n",
      " ---> Running in ab8cf2b3e27d\n",
      "Removing intermediate container ab8cf2b3e27d\n",
      " ---> 7e1619dbefee\n",
      "Step 13/14 : RUN python -m retro.import .\n",
      " ---> Running in ba222a9f9cee\n",
      "Importing 7 potential games...\n",
      "Importing SpaceInvaders-Atari2600\n",
      "Imported 1 games\n",
      "Removing intermediate container ba222a9f9cee\n",
      " ---> 7389e198d386\n",
      "Step 14/14 : WORKDIR /opt/ml/code\n",
      " ---> Running in f4bcc5c8f418\n",
      "Removing intermediate container f4bcc5c8f418\n",
      " ---> 426af7a79be9\n",
      "[Warning] One or more build-args [REGION] were not consumed\n",
      "Successfully built 426af7a79be9\n",
      "Successfully tagged train-space-invader-dddqn-gpu:latest\n"
     ]
    },
    {
     "name": "stderr",
     "output_type": "stream",
     "text": [
      "WARNING! Using --password via the CLI is insecure. Use --password-stdin.\n",
      "WARNING! Your password will be stored unencrypted in /home/ec2-user/.docker/config.json.\n",
      "Configure a credential helper to remove this warning. See\n",
      "https://docs.docker.com/engine/reference/commandline/login/#credentials-store\n",
      "\n",
      "WARNING! Using --password via the CLI is insecure. Use --password-stdin.\n",
      "WARNING! Your password will be stored unencrypted in /home/ec2-user/.docker/config.json.\n",
      "Configure a credential helper to remove this warning. See\n",
      "https://docs.docker.com/engine/reference/commandline/login/#credentials-store\n",
      "\n"
     ]
    }
   ],
   "source": [
    "%%sh\n",
    "\n",
    "# The name of our algorithm\n",
    "algorithm_name=$train_container_name\n",
    "\n",
    "cd train_container\n",
    "\n",
    "account=$(aws sts get-caller-identity --query Account --output text)\n",
    "\n",
    "# Get the region defined in the current configuration (default to us-west-2 if none defined)\n",
    "region=$(aws configure get region)\n",
    "region=${region:-us-west-2}\n",
    "\n",
    "echo $region\n",
    "\n",
    "fullname=\"${account}.dkr.ecr.${region}.amazonaws.com/${algorithm_name}:latest\"\n",
    "\n",
    "# If the repository doesn't exist in ECR, create it.\n",
    "\n",
    "aws ecr describe-repositories --repository-names \"${algorithm_name}\" > /dev/null 2>&1\n",
    "\n",
    "if [ $? -ne 0 ]\n",
    "then\n",
    "    aws ecr create-repository --repository-name \"${algorithm_name}\" > /dev/null\n",
    "fi\n",
    "\n",
    "# Get the login command from ECR and execute it directly\n",
    "$(aws ecr get-login --region ${region} --no-include-email)\n",
    "\n",
    "# Get the login command from ECR in order to pull down the Tensorflow-gpu:1.5 image\n",
    "$(aws ecr get-login --registry-ids 763104351884 --region ${region} --no-include-email)\n",
    "\n",
    "# Build the docker image locally with the image name and then push it to ECR\n",
    "# with the full name.\n",
    "\n",
    "docker build  -t ${algorithm_name} . --build-arg REGION=${region}\n",
    "docker tag ${algorithm_name} ${fullname}\n",
    "\n",
    "# docker push ${fullname}"
   ]
  },
  {
   "cell_type": "code",
   "execution_count": 38,
   "metadata": {},
   "outputs": [
    {
     "name": "stdout",
     "output_type": "stream",
     "text": [
      "run_mode_container:  True\n",
      "The mode is NO container\n",
      "model_path:  /opt/ml/model/model.ckpt\n",
      "The size of our frame is:  Box(210, 160, 3)\n",
      "The action size is:  8\n",
      "WARNING:tensorflow:From /usr/local/lib/python3.6/dist-packages/tensorflow_core/__init__.py:1467: The name tf.estimator.inputs is deprecated. Please use tf.compat.v1.estimator.inputs instead.\n",
      "\n",
      "2020-02-23 10:56:32.468929: W tensorflow/stream_executor/platform/default/dso_loader.cc:55] Could not load dynamic library 'libcuda.so.1'; dlerror: libcuda.so.1: cannot open shared object file: No such file or directory; LD_LIBRARY_PATH: /usr/local/openmpi/lib:/usr/local/nvidia/lib:/usr/local/nvidia/lib64\n",
      "2020-02-23 10:56:32.468959: E tensorflow/stream_executor/cuda/cuda_driver.cc:318] failed call to cuInit: UNKNOWN ERROR (303)\n",
      "2020-02-23 10:56:32.468976: I tensorflow/stream_executor/cuda/cuda_diagnostics.cc:156] kernel driver does not appear to be running on this host (5d4145c986a2): /proc/driver/nvidia/version does not exist\n",
      "2020-02-23 10:56:32.469194: I tensorflow/core/platform/cpu_feature_guard.cc:142] Your CPU supports instructions that this TensorFlow binary was not compiled to use: AVX512F\n",
      "2020-02-23 10:56:32.495911: I tensorflow/core/platform/profile_utils/cpu_utils.cc:94] CPU Frequency: 2999995000 Hz\n",
      "2020-02-23 10:56:32.496815: I tensorflow/compiler/xla/service/service.cc:168] XLA service 0x57ca230 initialized for platform Host (this does not guarantee that XLA will be used). Devices:\n",
      "2020-02-23 10:56:32.496838: I tensorflow/compiler/xla/service/service.cc:176]   StreamExecutor device (0): Host, Default Version\n",
      "Model Saved\n"
     ]
    }
   ],
   "source": [
    "# # !docker run $train_container_name python train\n",
    "!docker run $train_container_name train  --run_mode_container=True"
   ]
  },
  {
   "cell_type": "markdown",
   "metadata": {},
   "source": [
    "<h2> Push to ECR"
   ]
  },
  {
   "cell_type": "code",
   "execution_count": 39,
   "metadata": {},
   "outputs": [
    {
     "name": "stdout",
     "output_type": "stream",
     "text": [
      "docker image:  057716757052.dkr.ecr.us-east-2.amazonaws.com/train-space-invader-dddqn-gpu:latest\n",
      "The push refers to repository [057716757052.dkr.ecr.us-east-2.amazonaws.com/train-space-invader-dddqn-gpu]\n",
      "\n",
      "\u001b[1Bde9056d9: Preparing \n",
      "\u001b[1B387728e2: Preparing \n",
      "\u001b[1B14d103c3: Preparing \n",
      "\u001b[1B80c6d201: Preparing \n",
      "\u001b[1B1f6064b7: Preparing \n",
      "\u001b[1B7c3b0f10: Preparing \n",
      "\u001b[1Bfd3b3f9d: Preparing \n",
      "\u001b[1B0397b295: Preparing \n",
      "\u001b[1B363c7bbd: Preparing \n",
      "\u001b[1Ba1765c0f: Preparing \n",
      "\u001b[1Bdb1e5fa3: Preparing \n",
      "\u001b[1B376d2ac8: Preparing \n",
      "\u001b[1Bdc4932e7: Preparing \n",
      "\u001b[1Bf0752ab0: Preparing \n",
      "\u001b[1B1181bd36: Preparing \n",
      "\u001b[1B772b5b08: Preparing \n",
      "\u001b[1B3c24a493: Preparing \n",
      "\u001b[1Bb226ebe0: Preparing \n",
      "\u001b[1B3e4fc209: Preparing \n",
      "\u001b[15Bc3b0f10: Waiting g \n",
      "\u001b[1B71fb55e8: Preparing \n",
      "\u001b[1B4c09fe29: Preparing \n",
      "\u001b[17Bd3b3f9d: Waiting g \n",
      "\u001b[1B8c2b9bbc: Preparing \n",
      "\u001b[13Bc4932e7: Waiting g \n",
      "\u001b[19B397b295: Waiting g \n",
      "\u001b[1B1c774a30: Preparing \n",
      "\u001b[1Ba4b22186: Preparing \n",
      "\u001b[16B0752ab0: Waiting g \n",
      "\u001b[1Bb5a53aac: Preparing \n",
      "\u001b[1Bc8e5063e: Preparing \n",
      "\u001b[1B7c529ced: Layer already exists 1kB\u001b[29A\u001b[1K\u001b[K\u001b[25A\u001b[1K\u001b[K\u001b[23A\u001b[1K\u001b[K\u001b[22A\u001b[1K\u001b[K\u001b[31A\u001b[1K\u001b[K\u001b[18A\u001b[1K\u001b[K\u001b[11A\u001b[1K\u001b[K\u001b[5A\u001b[1K\u001b[Klatest: digest: sha256:259d15761c66deb65cbeb6496cf14913f989eb21e666087b62cc87a5da9cced9 size: 7008\n"
     ]
    }
   ],
   "source": [
    "from sagemaker.estimator import Estimator\n",
    "from sagemaker import get_execution_role\n",
    "import sagemaker as sage\n",
    "\n",
    "role = get_execution_role()\n",
    "sess = sage.Session()\n",
    "\n",
    "account = sess.boto_session.client('sts').get_caller_identity()['Account']\n",
    "region = sess.boto_session.region_name\n",
    "image = '{}.dkr.ecr.{}.amazonaws.com/{}:latest'.format(account, region, train_container_name)\n",
    "print(\"docker image: \", image)\n",
    "# 057716757052.dkr.ecr.us-east-2.amazonaws.com/train-space-invader-gpu-emoji\n",
    "\n",
    "# ! echo {image}\n",
    "! docker push {image}\n",
    "\n",
    "# %%sh\n",
    "# cd train_container\n",
    "# ./build_and_push.sh $train_container_name\n",
    "# # # 057716757052.dkr.ecr.us-east-2.amazonaws.com/191204-text:latest\n"
   ]
  },
  {
   "cell_type": "code",
   "execution_count": null,
   "metadata": {},
   "outputs": [],
   "source": []
  }
 ],
 "metadata": {
  "kernelspec": {
   "display_name": "conda_tensorflow_p36",
   "language": "python",
   "name": "conda_tensorflow_p36"
  },
  "language_info": {
   "codemirror_mode": {
    "name": "ipython",
    "version": 3
   },
   "file_extension": ".py",
   "mimetype": "text/x-python",
   "name": "python",
   "nbconvert_exporter": "python",
   "pygments_lexer": "ipython3",
   "version": "3.6.5"
  }
 },
 "nbformat": 4,
 "nbformat_minor": 4
}
