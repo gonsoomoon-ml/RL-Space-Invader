{
 "cells": [
  {
   "cell_type": "code",
   "execution_count": 16,
   "metadata": {},
   "outputs": [
    {
     "name": "stdout",
     "output_type": "stream",
     "text": [
      "download: s3://rl-gsmoon/022220-space-invader-dddqn/train-space-invader-dddqn-gpu-2020-02-24-13-34-29-728/output/model.tar.gz to play_model/model.tar.gz\n"
     ]
    }
   ],
   "source": [
    "# Search words in file folder\n",
    "# grep -i \"tom\" /etc/passwd \n",
    "s3_model_file = \"s3://rl-gsmoon/022220-space-invader-dddqn/train-space-invader-dddqn-gpu-2020-02-24-13-34-29-728/output/model.tar.gz\"\n",
    "! aws s3 cp {s3_model_file}  ./play_model/"
   ]
  },
  {
   "cell_type": "code",
   "execution_count": 17,
   "metadata": {},
   "outputs": [
    {
     "name": "stdout",
     "output_type": "stream",
     "text": [
      "model.ckpt.index\n",
      "checkpoint\n",
      "model.ckpt.meta\n",
      "model.ckpt.data-00000-of-00001\n",
      "total 81988\n",
      "drwxrwxr-x  7 ec2-user ec2-user     4096 Feb 25 12:16 .\n",
      "drwxrwxr-x 10 ec2-user ec2-user     4096 Feb 25 12:16 ..\n",
      "-rw-rw-r--  1 ec2-user ec2-user        0 Feb 25 12:16 500_episodes\n",
      "-rw-r--r--  1 ec2-user ec2-user      105 Feb 25 11:05 checkpoint\n",
      "drwxrwxr-x  2 ec2-user ec2-user     4096 Feb 24 13:26 ep_100\n",
      "drwxrwxr-x  2 ec2-user ec2-user     4096 Feb 24 13:15 ep_2\n",
      "drwxrwxr-x  2 ec2-user ec2-user     4096 Feb 24 13:19 ep_50\n",
      "drwxrwxr-x  2 ec2-user ec2-user     4096 Feb 25 12:15 ep_500\n",
      "drwxrwxr-x  2 ec2-user ec2-user     4096 Feb 22 08:22 .ipynb_checkpoints\n",
      "-rw-r--r--  1 ec2-user ec2-user 51455448 Feb 25 11:05 model.ckpt.data-00000-of-00001\n",
      "-rw-r--r--  1 ec2-user ec2-user     3464 Feb 25 11:05 model.ckpt.index\n",
      "-rw-r--r--  1 ec2-user ec2-user   301842 Feb 25 11:05 model.ckpt.meta\n",
      "-rw-rw-r--  1 ec2-user ec2-user 32155237 Feb 25 11:10 model.tar.gz\n"
     ]
    }
   ],
   "source": [
    "%%sh\n",
    "cd play_model\n",
    "# rm -rf checkpoint 515_episodes\n",
    "rm -rf model.ckpt*\n",
    "tar -xvf model.tar.gz\n",
    "ls -al\n",
    "touch 1000_episodes\n",
    "rm model.tar.gz\n"
   ]
  },
  {
   "cell_type": "code",
   "execution_count": null,
   "metadata": {},
   "outputs": [],
   "source": []
  },
  {
   "cell_type": "code",
   "execution_count": null,
   "metadata": {},
   "outputs": [],
   "source": []
  }
 ],
 "metadata": {
  "kernelspec": {
   "display_name": "conda_tensorflow_p36",
   "language": "python",
   "name": "conda_tensorflow_p36"
  },
  "language_info": {
   "codemirror_mode": {
    "name": "ipython",
    "version": 3
   },
   "file_extension": ".py",
   "mimetype": "text/x-python",
   "name": "python",
   "nbconvert_exporter": "python",
   "pygments_lexer": "ipython3",
   "version": "3.6.5"
  }
 },
 "nbformat": 4,
 "nbformat_minor": 4
}
